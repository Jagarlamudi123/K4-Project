{
 "cells": [
  {
   "cell_type": "code",
   "execution_count": 2,
   "id": "3802eedc",
   "metadata": {},
   "outputs": [],
   "source": [
    "import pandas as pd"
   ]
  },
  {
   "cell_type": "code",
   "execution_count": 3,
   "id": "a5e2c558",
   "metadata": {},
   "outputs": [],
   "source": [
    "df = pd.read_csv(\"Test_Project_MIS.csv\")"
   ]
  },
  {
   "cell_type": "code",
   "execution_count": 4,
   "id": "70bcb7ce",
   "metadata": {
    "scrolled": false
   },
   "outputs": [
    {
     "data": {
      "text/html": [
       "<div>\n",
       "<style scoped>\n",
       "    .dataframe tbody tr th:only-of-type {\n",
       "        vertical-align: middle;\n",
       "    }\n",
       "\n",
       "    .dataframe tbody tr th {\n",
       "        vertical-align: top;\n",
       "    }\n",
       "\n",
       "    .dataframe thead th {\n",
       "        text-align: right;\n",
       "    }\n",
       "</style>\n",
       "<table border=\"1\" class=\"dataframe\">\n",
       "  <thead>\n",
       "    <tr style=\"text-align: right;\">\n",
       "      <th></th>\n",
       "      <th>B_Req</th>\n",
       "      <th>R_Priority</th>\n",
       "      <th>Weights</th>\n",
       "      <th>FP</th>\n",
       "      <th>Complexity</th>\n",
       "      <th>Time</th>\n",
       "      <th>Cost</th>\n",
       "      <th>Priority</th>\n",
       "    </tr>\n",
       "  </thead>\n",
       "  <tbody>\n",
       "    <tr>\n",
       "      <th>0</th>\n",
       "      <td>1</td>\n",
       "      <td>C</td>\n",
       "      <td>3</td>\n",
       "      <td>T-mis-2708,T-mis- 2151,T-mis- 560,T-mis- 164,T...</td>\n",
       "      <td>3</td>\n",
       "      <td>8</td>\n",
       "      <td>168.0</td>\n",
       "      <td>Medium</td>\n",
       "    </tr>\n",
       "    <tr>\n",
       "      <th>1</th>\n",
       "      <td>2</td>\n",
       "      <td>C</td>\n",
       "      <td>3</td>\n",
       "      <td>T-mis-1755</td>\n",
       "      <td>3</td>\n",
       "      <td>4</td>\n",
       "      <td>84.0</td>\n",
       "      <td>High</td>\n",
       "    </tr>\n",
       "    <tr>\n",
       "      <th>2</th>\n",
       "      <td>3</td>\n",
       "      <td>W</td>\n",
       "      <td>3</td>\n",
       "      <td>T-mis-3227</td>\n",
       "      <td>3</td>\n",
       "      <td>1.5</td>\n",
       "      <td>31.5</td>\n",
       "      <td>Medium</td>\n",
       "    </tr>\n",
       "    <tr>\n",
       "      <th>3</th>\n",
       "      <td>4</td>\n",
       "      <td>S</td>\n",
       "      <td>2</td>\n",
       "      <td>T-mis-2440,T-mis- 2659,T-mis- 1510</td>\n",
       "      <td>1</td>\n",
       "      <td>4</td>\n",
       "      <td>28.0</td>\n",
       "      <td>Medium</td>\n",
       "    </tr>\n",
       "    <tr>\n",
       "      <th>4</th>\n",
       "      <td>5</td>\n",
       "      <td>C</td>\n",
       "      <td>3</td>\n",
       "      <td>T-mis-2912,T-mis- 2042,T-mis- 1020</td>\n",
       "      <td>5</td>\n",
       "      <td>4</td>\n",
       "      <td>140.0</td>\n",
       "      <td>Medium</td>\n",
       "    </tr>\n",
       "    <tr>\n",
       "      <th>...</th>\n",
       "      <td>...</td>\n",
       "      <td>...</td>\n",
       "      <td>...</td>\n",
       "      <td>...</td>\n",
       "      <td>...</td>\n",
       "      <td>...</td>\n",
       "      <td>...</td>\n",
       "      <td>...</td>\n",
       "    </tr>\n",
       "    <tr>\n",
       "      <th>1309</th>\n",
       "      <td>1310</td>\n",
       "      <td>S</td>\n",
       "      <td>2</td>\n",
       "      <td>T-mis-261,T-mis- 934</td>\n",
       "      <td>1</td>\n",
       "      <td>3</td>\n",
       "      <td>21.0</td>\n",
       "      <td>Low</td>\n",
       "    </tr>\n",
       "    <tr>\n",
       "      <th>1310</th>\n",
       "      <td>1311</td>\n",
       "      <td>S</td>\n",
       "      <td>2</td>\n",
       "      <td>T-mis-299,T-mis- 290,T-mis- 2090</td>\n",
       "      <td>3</td>\n",
       "      <td>4</td>\n",
       "      <td>84.0</td>\n",
       "      <td>Low</td>\n",
       "    </tr>\n",
       "    <tr>\n",
       "      <th>1311</th>\n",
       "      <td>1312</td>\n",
       "      <td>C</td>\n",
       "      <td>3</td>\n",
       "      <td>T-mis-1289,T-mis- 652,T-mis- 1061</td>\n",
       "      <td>3</td>\n",
       "      <td>4</td>\n",
       "      <td>84.0</td>\n",
       "      <td>Low</td>\n",
       "    </tr>\n",
       "    <tr>\n",
       "      <th>1312</th>\n",
       "      <td>1313</td>\n",
       "      <td>M</td>\n",
       "      <td>1</td>\n",
       "      <td>T-mis-1003,T-mis- 1407,T-mis- 922</td>\n",
       "      <td>1</td>\n",
       "      <td>5</td>\n",
       "      <td>35.0</td>\n",
       "      <td>Low</td>\n",
       "    </tr>\n",
       "    <tr>\n",
       "      <th>1313</th>\n",
       "      <td>1314</td>\n",
       "      <td>W</td>\n",
       "      <td>3</td>\n",
       "      <td>T-mis-1321,T-mis- 1675,T-mis- 1095,T-mis- 2573</td>\n",
       "      <td>1</td>\n",
       "      <td>4.5</td>\n",
       "      <td>31.5</td>\n",
       "      <td>Medium</td>\n",
       "    </tr>\n",
       "  </tbody>\n",
       "</table>\n",
       "<p>1314 rows × 8 columns</p>\n",
       "</div>"
      ],
      "text/plain": [
       "      B_Req R_Priority  Weights  \\\n",
       "0         1          C        3   \n",
       "1         2          C        3   \n",
       "2         3          W        3   \n",
       "3         4          S        2   \n",
       "4         5          C        3   \n",
       "...     ...        ...      ...   \n",
       "1309   1310          S        2   \n",
       "1310   1311          S        2   \n",
       "1311   1312          C        3   \n",
       "1312   1313          M        1   \n",
       "1313   1314          W        3   \n",
       "\n",
       "                                                     FP  Complexity Time  \\\n",
       "0     T-mis-2708,T-mis- 2151,T-mis- 560,T-mis- 164,T...           3    8   \n",
       "1                                            T-mis-1755           3    4   \n",
       "2                                            T-mis-3227           3  1.5   \n",
       "3                    T-mis-2440,T-mis- 2659,T-mis- 1510           1    4   \n",
       "4                    T-mis-2912,T-mis- 2042,T-mis- 1020           5    4   \n",
       "...                                                 ...         ...  ...   \n",
       "1309                               T-mis-261,T-mis- 934           1    3   \n",
       "1310                   T-mis-299,T-mis- 290,T-mis- 2090           3    4   \n",
       "1311                  T-mis-1289,T-mis- 652,T-mis- 1061           3    4   \n",
       "1312                  T-mis-1003,T-mis- 1407,T-mis- 922           1    5   \n",
       "1313     T-mis-1321,T-mis- 1675,T-mis- 1095,T-mis- 2573           1  4.5   \n",
       "\n",
       "       Cost Priority  \n",
       "0     168.0   Medium  \n",
       "1      84.0     High  \n",
       "2      31.5   Medium  \n",
       "3      28.0   Medium  \n",
       "4     140.0   Medium  \n",
       "...     ...      ...  \n",
       "1309   21.0      Low  \n",
       "1310   84.0      Low  \n",
       "1311   84.0      Low  \n",
       "1312   35.0      Low  \n",
       "1313   31.5   Medium  \n",
       "\n",
       "[1314 rows x 8 columns]"
      ]
     },
     "execution_count": 4,
     "metadata": {},
     "output_type": "execute_result"
    }
   ],
   "source": [
    "df"
   ]
  },
  {
   "cell_type": "code",
   "execution_count": 5,
   "id": "6aade8d5",
   "metadata": {},
   "outputs": [
    {
     "data": {
      "text/plain": [
       "1       1\n",
       "883     1\n",
       "881     1\n",
       "880     1\n",
       "879     1\n",
       "       ..\n",
       "438     1\n",
       "437     1\n",
       "436     1\n",
       "435     1\n",
       "1314    1\n",
       "Name: B_Req, Length: 1314, dtype: int64"
      ]
     },
     "execution_count": 5,
     "metadata": {},
     "output_type": "execute_result"
    }
   ],
   "source": [
    "df[\"B_Req\"].value_counts()"
   ]
  },
  {
   "cell_type": "code",
   "execution_count": 6,
   "id": "b68d719b",
   "metadata": {},
   "outputs": [
    {
     "data": {
      "text/plain": [
       "Index(['B_Req', 'R_Priority', 'Weights', 'FP', 'Complexity', 'Time', 'Cost',\n",
       "       'Priority'],\n",
       "      dtype='object')"
      ]
     },
     "execution_count": 6,
     "metadata": {},
     "output_type": "execute_result"
    }
   ],
   "source": [
    "df.columns"
   ]
  },
  {
   "cell_type": "code",
   "execution_count": 7,
   "id": "0a36fec0",
   "metadata": {
    "scrolled": true
   },
   "outputs": [
    {
     "data": {
      "text/plain": [
       "M    444\n",
       "S    433\n",
       "W    228\n",
       "C    209\n",
       "Name: R_Priority, dtype: int64"
      ]
     },
     "execution_count": 7,
     "metadata": {},
     "output_type": "execute_result"
    }
   ],
   "source": [
    "df[\"R_Priority\"].value_counts()"
   ]
  },
  {
   "cell_type": "markdown",
   "id": "99bdc724",
   "metadata": {},
   "source": [
    "### Feature Extraction"
   ]
  },
  {
   "cell_type": "code",
   "execution_count": 8,
   "id": "1b3a3556",
   "metadata": {},
   "outputs": [
    {
     "data": {
      "text/plain": [
       "['T-mis-2708',\n",
       " 'T-mis- 2151',\n",
       " 'T-mis- 560',\n",
       " 'T-mis- 164',\n",
       " 'T-mis-3122',\n",
       " 'T-mis- 1279',\n",
       " 'T-mis- 772']"
      ]
     },
     "execution_count": 8,
     "metadata": {},
     "output_type": "execute_result"
    }
   ],
   "source": [
    "df[\"FP\"][0].split(\",\")"
   ]
  },
  {
   "cell_type": "code",
   "execution_count": 9,
   "id": "d85b0283",
   "metadata": {},
   "outputs": [],
   "source": [
    "df[\"No of FPS\"] = df[\"FP\"].apply(lambda x : len(x.split(\",\"))) "
   ]
  },
  {
   "cell_type": "code",
   "execution_count": 10,
   "id": "3950f2cf",
   "metadata": {},
   "outputs": [
    {
     "data": {
      "text/plain": [
       "0       7\n",
       "1       1\n",
       "2       1\n",
       "3       3\n",
       "4       3\n",
       "       ..\n",
       "1309    2\n",
       "1310    3\n",
       "1311    3\n",
       "1312    3\n",
       "1313    4\n",
       "Name: No of FPS, Length: 1314, dtype: int64"
      ]
     },
     "execution_count": 10,
     "metadata": {},
     "output_type": "execute_result"
    }
   ],
   "source": [
    "df[\"No of FPS\"]"
   ]
  },
  {
   "cell_type": "code",
   "execution_count": 11,
   "id": "e155bd0c",
   "metadata": {},
   "outputs": [
    {
     "data": {
      "text/html": [
       "<div>\n",
       "<style scoped>\n",
       "    .dataframe tbody tr th:only-of-type {\n",
       "        vertical-align: middle;\n",
       "    }\n",
       "\n",
       "    .dataframe tbody tr th {\n",
       "        vertical-align: top;\n",
       "    }\n",
       "\n",
       "    .dataframe thead th {\n",
       "        text-align: right;\n",
       "    }\n",
       "</style>\n",
       "<table border=\"1\" class=\"dataframe\">\n",
       "  <thead>\n",
       "    <tr style=\"text-align: right;\">\n",
       "      <th></th>\n",
       "      <th>B_Req</th>\n",
       "      <th>R_Priority</th>\n",
       "      <th>Weights</th>\n",
       "      <th>FP</th>\n",
       "      <th>Complexity</th>\n",
       "      <th>Time</th>\n",
       "      <th>Cost</th>\n",
       "      <th>Priority</th>\n",
       "      <th>No of FPS</th>\n",
       "    </tr>\n",
       "  </thead>\n",
       "  <tbody>\n",
       "    <tr>\n",
       "      <th>0</th>\n",
       "      <td>1</td>\n",
       "      <td>C</td>\n",
       "      <td>3</td>\n",
       "      <td>T-mis-2708,T-mis- 2151,T-mis- 560,T-mis- 164,T...</td>\n",
       "      <td>3</td>\n",
       "      <td>8</td>\n",
       "      <td>168.0</td>\n",
       "      <td>Medium</td>\n",
       "      <td>7</td>\n",
       "    </tr>\n",
       "    <tr>\n",
       "      <th>1</th>\n",
       "      <td>2</td>\n",
       "      <td>C</td>\n",
       "      <td>3</td>\n",
       "      <td>T-mis-1755</td>\n",
       "      <td>3</td>\n",
       "      <td>4</td>\n",
       "      <td>84.0</td>\n",
       "      <td>High</td>\n",
       "      <td>1</td>\n",
       "    </tr>\n",
       "    <tr>\n",
       "      <th>2</th>\n",
       "      <td>3</td>\n",
       "      <td>W</td>\n",
       "      <td>3</td>\n",
       "      <td>T-mis-3227</td>\n",
       "      <td>3</td>\n",
       "      <td>1.5</td>\n",
       "      <td>31.5</td>\n",
       "      <td>Medium</td>\n",
       "      <td>1</td>\n",
       "    </tr>\n",
       "    <tr>\n",
       "      <th>3</th>\n",
       "      <td>4</td>\n",
       "      <td>S</td>\n",
       "      <td>2</td>\n",
       "      <td>T-mis-2440,T-mis- 2659,T-mis- 1510</td>\n",
       "      <td>1</td>\n",
       "      <td>4</td>\n",
       "      <td>28.0</td>\n",
       "      <td>Medium</td>\n",
       "      <td>3</td>\n",
       "    </tr>\n",
       "    <tr>\n",
       "      <th>4</th>\n",
       "      <td>5</td>\n",
       "      <td>C</td>\n",
       "      <td>3</td>\n",
       "      <td>T-mis-2912,T-mis- 2042,T-mis- 1020</td>\n",
       "      <td>5</td>\n",
       "      <td>4</td>\n",
       "      <td>140.0</td>\n",
       "      <td>Medium</td>\n",
       "      <td>3</td>\n",
       "    </tr>\n",
       "    <tr>\n",
       "      <th>...</th>\n",
       "      <td>...</td>\n",
       "      <td>...</td>\n",
       "      <td>...</td>\n",
       "      <td>...</td>\n",
       "      <td>...</td>\n",
       "      <td>...</td>\n",
       "      <td>...</td>\n",
       "      <td>...</td>\n",
       "      <td>...</td>\n",
       "    </tr>\n",
       "    <tr>\n",
       "      <th>1309</th>\n",
       "      <td>1310</td>\n",
       "      <td>S</td>\n",
       "      <td>2</td>\n",
       "      <td>T-mis-261,T-mis- 934</td>\n",
       "      <td>1</td>\n",
       "      <td>3</td>\n",
       "      <td>21.0</td>\n",
       "      <td>Low</td>\n",
       "      <td>2</td>\n",
       "    </tr>\n",
       "    <tr>\n",
       "      <th>1310</th>\n",
       "      <td>1311</td>\n",
       "      <td>S</td>\n",
       "      <td>2</td>\n",
       "      <td>T-mis-299,T-mis- 290,T-mis- 2090</td>\n",
       "      <td>3</td>\n",
       "      <td>4</td>\n",
       "      <td>84.0</td>\n",
       "      <td>Low</td>\n",
       "      <td>3</td>\n",
       "    </tr>\n",
       "    <tr>\n",
       "      <th>1311</th>\n",
       "      <td>1312</td>\n",
       "      <td>C</td>\n",
       "      <td>3</td>\n",
       "      <td>T-mis-1289,T-mis- 652,T-mis- 1061</td>\n",
       "      <td>3</td>\n",
       "      <td>4</td>\n",
       "      <td>84.0</td>\n",
       "      <td>Low</td>\n",
       "      <td>3</td>\n",
       "    </tr>\n",
       "    <tr>\n",
       "      <th>1312</th>\n",
       "      <td>1313</td>\n",
       "      <td>M</td>\n",
       "      <td>1</td>\n",
       "      <td>T-mis-1003,T-mis- 1407,T-mis- 922</td>\n",
       "      <td>1</td>\n",
       "      <td>5</td>\n",
       "      <td>35.0</td>\n",
       "      <td>Low</td>\n",
       "      <td>3</td>\n",
       "    </tr>\n",
       "    <tr>\n",
       "      <th>1313</th>\n",
       "      <td>1314</td>\n",
       "      <td>W</td>\n",
       "      <td>3</td>\n",
       "      <td>T-mis-1321,T-mis- 1675,T-mis- 1095,T-mis- 2573</td>\n",
       "      <td>1</td>\n",
       "      <td>4.5</td>\n",
       "      <td>31.5</td>\n",
       "      <td>Medium</td>\n",
       "      <td>4</td>\n",
       "    </tr>\n",
       "  </tbody>\n",
       "</table>\n",
       "<p>1314 rows × 9 columns</p>\n",
       "</div>"
      ],
      "text/plain": [
       "      B_Req R_Priority  Weights  \\\n",
       "0         1          C        3   \n",
       "1         2          C        3   \n",
       "2         3          W        3   \n",
       "3         4          S        2   \n",
       "4         5          C        3   \n",
       "...     ...        ...      ...   \n",
       "1309   1310          S        2   \n",
       "1310   1311          S        2   \n",
       "1311   1312          C        3   \n",
       "1312   1313          M        1   \n",
       "1313   1314          W        3   \n",
       "\n",
       "                                                     FP  Complexity Time  \\\n",
       "0     T-mis-2708,T-mis- 2151,T-mis- 560,T-mis- 164,T...           3    8   \n",
       "1                                            T-mis-1755           3    4   \n",
       "2                                            T-mis-3227           3  1.5   \n",
       "3                    T-mis-2440,T-mis- 2659,T-mis- 1510           1    4   \n",
       "4                    T-mis-2912,T-mis- 2042,T-mis- 1020           5    4   \n",
       "...                                                 ...         ...  ...   \n",
       "1309                               T-mis-261,T-mis- 934           1    3   \n",
       "1310                   T-mis-299,T-mis- 290,T-mis- 2090           3    4   \n",
       "1311                  T-mis-1289,T-mis- 652,T-mis- 1061           3    4   \n",
       "1312                  T-mis-1003,T-mis- 1407,T-mis- 922           1    5   \n",
       "1313     T-mis-1321,T-mis- 1675,T-mis- 1095,T-mis- 2573           1  4.5   \n",
       "\n",
       "       Cost Priority  No of FPS  \n",
       "0     168.0   Medium          7  \n",
       "1      84.0     High          1  \n",
       "2      31.5   Medium          1  \n",
       "3      28.0   Medium          3  \n",
       "4     140.0   Medium          3  \n",
       "...     ...      ...        ...  \n",
       "1309   21.0      Low          2  \n",
       "1310   84.0      Low          3  \n",
       "1311   84.0      Low          3  \n",
       "1312   35.0      Low          3  \n",
       "1313   31.5   Medium          4  \n",
       "\n",
       "[1314 rows x 9 columns]"
      ]
     },
     "execution_count": 11,
     "metadata": {},
     "output_type": "execute_result"
    }
   ],
   "source": [
    "df"
   ]
  },
  {
   "cell_type": "code",
   "execution_count": 12,
   "id": "a6a769b1",
   "metadata": {},
   "outputs": [],
   "source": [
    "df.to_csv(\"processed_data.csv\",index=None)"
   ]
  },
  {
   "cell_type": "markdown",
   "id": "7ed2d780",
   "metadata": {},
   "source": [
    "### Data Imbalance"
   ]
  },
  {
   "cell_type": "code",
   "execution_count": 13,
   "id": "604f3210",
   "metadata": {},
   "outputs": [
    {
     "data": {
      "text/plain": [
       "Medium    655\n",
       "Low       524\n",
       "High      135\n",
       "Name: Priority, dtype: int64"
      ]
     },
     "execution_count": 13,
     "metadata": {},
     "output_type": "execute_result"
    }
   ],
   "source": [
    "df[\"Priority\"].value_counts()"
   ]
  },
  {
   "cell_type": "markdown",
   "id": "f7744e62",
   "metadata": {},
   "source": [
    "### Checking Null Values"
   ]
  },
  {
   "cell_type": "code",
   "execution_count": 14,
   "id": "1c544bac",
   "metadata": {},
   "outputs": [
    {
     "data": {
      "text/plain": [
       "B_Req         0\n",
       "R_Priority    0\n",
       "Weights       0\n",
       "FP            0\n",
       "Complexity    0\n",
       "Time          0\n",
       "Cost          0\n",
       "Priority      0\n",
       "No of FPS     0\n",
       "dtype: int64"
      ]
     },
     "execution_count": 14,
     "metadata": {},
     "output_type": "execute_result"
    }
   ],
   "source": [
    "df.isnull().sum()"
   ]
  },
  {
   "cell_type": "markdown",
   "id": "3e44ca7e",
   "metadata": {},
   "source": [
    "### Data Preprocessing"
   ]
  },
  {
   "cell_type": "code",
   "execution_count": 15,
   "id": "04400462",
   "metadata": {},
   "outputs": [
    {
     "data": {
      "text/html": [
       "<div>\n",
       "<style scoped>\n",
       "    .dataframe tbody tr th:only-of-type {\n",
       "        vertical-align: middle;\n",
       "    }\n",
       "\n",
       "    .dataframe tbody tr th {\n",
       "        vertical-align: top;\n",
       "    }\n",
       "\n",
       "    .dataframe thead th {\n",
       "        text-align: right;\n",
       "    }\n",
       "</style>\n",
       "<table border=\"1\" class=\"dataframe\">\n",
       "  <thead>\n",
       "    <tr style=\"text-align: right;\">\n",
       "      <th></th>\n",
       "      <th>B_Req</th>\n",
       "      <th>R_Priority</th>\n",
       "      <th>Weights</th>\n",
       "      <th>FP</th>\n",
       "      <th>Complexity</th>\n",
       "      <th>Time</th>\n",
       "      <th>Cost</th>\n",
       "      <th>Priority</th>\n",
       "      <th>No of FPS</th>\n",
       "    </tr>\n",
       "  </thead>\n",
       "  <tbody>\n",
       "    <tr>\n",
       "      <th>685</th>\n",
       "      <td>686</td>\n",
       "      <td>C</td>\n",
       "      <td>3</td>\n",
       "      <td>T-mis-3130</td>\n",
       "      <td>5</td>\n",
       "      <td>1..5</td>\n",
       "      <td>35.0</td>\n",
       "      <td>Low</td>\n",
       "      <td>1</td>\n",
       "    </tr>\n",
       "  </tbody>\n",
       "</table>\n",
       "</div>"
      ],
      "text/plain": [
       "     B_Req R_Priority  Weights          FP  Complexity  Time  Cost Priority  \\\n",
       "685    686          C        3  T-mis-3130           5  1..5  35.0      Low   \n",
       "\n",
       "     No of FPS  \n",
       "685          1  "
      ]
     },
     "execution_count": 15,
     "metadata": {},
     "output_type": "execute_result"
    }
   ],
   "source": [
    "df[df[\"Time\"]==\"1..5\"]"
   ]
  },
  {
   "cell_type": "code",
   "execution_count": 16,
   "id": "167037e5",
   "metadata": {},
   "outputs": [],
   "source": [
    "def trans(x):\n",
    "    if len(x.split(\".\"))>2:\n",
    "        return float(x.split(\".\")[0] +\".\"+x.split(\".\")[2])\n",
    "    else:\n",
    "        return float(x)\n",
    "df[\"Time\"] = df[\"Time\"].apply(trans)"
   ]
  },
  {
   "cell_type": "code",
   "execution_count": 17,
   "id": "a314cafc",
   "metadata": {},
   "outputs": [
    {
     "data": {
      "text/html": [
       "<div>\n",
       "<style scoped>\n",
       "    .dataframe tbody tr th:only-of-type {\n",
       "        vertical-align: middle;\n",
       "    }\n",
       "\n",
       "    .dataframe tbody tr th {\n",
       "        vertical-align: top;\n",
       "    }\n",
       "\n",
       "    .dataframe thead th {\n",
       "        text-align: right;\n",
       "    }\n",
       "</style>\n",
       "<table border=\"1\" class=\"dataframe\">\n",
       "  <thead>\n",
       "    <tr style=\"text-align: right;\">\n",
       "      <th></th>\n",
       "      <th>B_Req</th>\n",
       "      <th>R_Priority</th>\n",
       "      <th>Weights</th>\n",
       "      <th>FP</th>\n",
       "      <th>Complexity</th>\n",
       "      <th>Time</th>\n",
       "      <th>Cost</th>\n",
       "      <th>Priority</th>\n",
       "      <th>No of FPS</th>\n",
       "    </tr>\n",
       "  </thead>\n",
       "  <tbody>\n",
       "  </tbody>\n",
       "</table>\n",
       "</div>"
      ],
      "text/plain": [
       "Empty DataFrame\n",
       "Columns: [B_Req, R_Priority, Weights, FP, Complexity, Time, Cost, Priority, No of FPS]\n",
       "Index: []"
      ]
     },
     "execution_count": 17,
     "metadata": {},
     "output_type": "execute_result"
    }
   ],
   "source": [
    "df[df[\"Time\"]==\"1..5\"]"
   ]
  },
  {
   "cell_type": "code",
   "execution_count": 18,
   "id": "2bd548e6",
   "metadata": {},
   "outputs": [],
   "source": [
    "col = ['R_Priority', 'Weights', 'Complexity', 'Time', 'Cost',\n",
    "       \"No of FPS\",'Priority']"
   ]
  },
  {
   "cell_type": "code",
   "execution_count": 19,
   "id": "e4af4975",
   "metadata": {},
   "outputs": [],
   "source": [
    "df = df[col]"
   ]
  },
  {
   "cell_type": "code",
   "execution_count": 20,
   "id": "8daca74d",
   "metadata": {},
   "outputs": [],
   "source": [
    "import matplotlib.pyplot as plt\n",
    "import seaborn as sns"
   ]
  },
  {
   "cell_type": "markdown",
   "id": "6e478f63",
   "metadata": {},
   "source": [
    "## Exploratory Data Analaysis"
   ]
  },
  {
   "cell_type": "code",
   "execution_count": 21,
   "id": "6e63bf16",
   "metadata": {},
   "outputs": [
    {
     "data": {
      "text/html": [
       "<div>\n",
       "<style scoped>\n",
       "    .dataframe tbody tr th:only-of-type {\n",
       "        vertical-align: middle;\n",
       "    }\n",
       "\n",
       "    .dataframe tbody tr th {\n",
       "        vertical-align: top;\n",
       "    }\n",
       "\n",
       "    .dataframe thead th {\n",
       "        text-align: right;\n",
       "    }\n",
       "</style>\n",
       "<table border=\"1\" class=\"dataframe\">\n",
       "  <thead>\n",
       "    <tr style=\"text-align: right;\">\n",
       "      <th></th>\n",
       "      <th>R_Priority</th>\n",
       "      <th>Weights</th>\n",
       "      <th>Complexity</th>\n",
       "      <th>Time</th>\n",
       "      <th>Cost</th>\n",
       "      <th>No of FPS</th>\n",
       "      <th>Priority</th>\n",
       "    </tr>\n",
       "  </thead>\n",
       "  <tbody>\n",
       "  </tbody>\n",
       "</table>\n",
       "</div>"
      ],
      "text/plain": [
       "Empty DataFrame\n",
       "Columns: [R_Priority, Weights, Complexity, Time, Cost, No of FPS, Priority]\n",
       "Index: []"
      ]
     },
     "execution_count": 21,
     "metadata": {},
     "output_type": "execute_result"
    }
   ],
   "source": [
    "df[df[\"Cost\"]<0]"
   ]
  },
  {
   "cell_type": "code",
   "execution_count": 22,
   "id": "8d896ca9",
   "metadata": {},
   "outputs": [
    {
     "name": "stderr",
     "output_type": "stream",
     "text": [
      "C:\\Users\\ajayv\\anaconda3\\lib\\site-packages\\seaborn\\distributions.py:2557: FutureWarning: `distplot` is a deprecated function and will be removed in a future version. Please adapt your code to use either `displot` (a figure-level function with similar flexibility) or `histplot` (an axes-level function for histograms).\n",
      "  warnings.warn(msg, FutureWarning)\n"
     ]
    },
    {
     "data": {
      "image/png": "[encoded data removed]",
      "text/plain": [
       "<Figure size 576x576 with 1 Axes>"
      ]
     },
     "metadata": {
      "needs_background": "light"
     },
     "output_type": "display_data"
    }
   ],
   "source": [
    "plt.figure(figsize = (8, 8))\n",
    "sns.distplot(df['Cost'], color='blue')\n",
    "plt.title('Cost distribution', fontsize = 14)\n",
    "plt.show()"
   ]
  },
  {
   "cell_type": "code",
   "execution_count": 23,
   "id": "d09f19b2",
   "metadata": {},
   "outputs": [
    {
     "name": "stderr",
     "output_type": "stream",
     "text": [
      "C:\\Users\\ajayv\\anaconda3\\lib\\site-packages\\seaborn\\distributions.py:2557: FutureWarning: `distplot` is a deprecated function and will be removed in a future version. Please adapt your code to use either `displot` (a figure-level function with similar flexibility) or `histplot` (an axes-level function for histograms).\n",
      "  warnings.warn(msg, FutureWarning)\n"
     ]
    },
    {
     "data": {
      "image/png": "[encoded data removed]",
      "text/plain": [
       "<Figure size 576x576 with 1 Axes>"
      ]
     },
     "metadata": {
      "needs_background": "light"
     },
     "output_type": "display_data"
    }
   ],
   "source": [
    "plt.figure(figsize = (8, 8))\n",
    "sns.distplot(df['Time'], color='blue')\n",
    "plt.title('Time distribution', fontsize = 14)\n",
    "plt.show()"
   ]
  },
  {
   "cell_type": "code",
   "execution_count": 24,
   "id": "7e8cc1b7",
   "metadata": {},
   "outputs": [
    {
     "data": {
      "text/plain": [
       "<AxesSubplot:xlabel='R_Priority'>"
      ]
     },
     "execution_count": 24,
     "metadata": {},
     "output_type": "execute_result"
    },
    {
     "data": {
      "image/png": "[encoded data removed]",
      "text/plain": [
       "<Figure size 576x504 with 1 Axes>"
      ]
     },
     "metadata": {
      "needs_background": "light"
     },
     "output_type": "display_data"
    }
   ],
   "source": [
    "df.groupby('R_Priority')['Priority'].value_counts().unstack('Priority').plot(kind='bar', stacked=True, figsize=(8, 7))"
   ]
  },
  {
   "cell_type": "code",
   "execution_count": 25,
   "id": "95d6f16e",
   "metadata": {},
   "outputs": [
    {
     "data": {
      "text/plain": [
       "<AxesSubplot:xlabel='Complexity'>"
      ]
     },
     "execution_count": 25,
     "metadata": {},
     "output_type": "execute_result"
    },
    {
     "data": {
      "image/png": "[encoded data removed]",
      "text/plain": [
       "<Figure size 576x504 with 1 Axes>"
      ]
     },
     "metadata": {
      "needs_background": "light"
     },
     "output_type": "display_data"
    }
   ],
   "source": [
    "df.groupby('Complexity')['Priority'].value_counts().unstack('Priority').plot(kind='bar', stacked=True, figsize=(8, 7))"
   ]
  },
  {
   "cell_type": "code",
   "execution_count": 26,
   "id": "7290156e",
   "metadata": {},
   "outputs": [
    {
     "data": {
      "text/plain": [
       "<AxesSubplot:xlabel='Weights'>"
      ]
     },
     "execution_count": 26,
     "metadata": {},
     "output_type": "execute_result"
    },
    {
     "data": {
      "image/png": "[encoded data removed]",
      "text/plain": [
       "<Figure size 576x504 with 1 Axes>"
      ]
     },
     "metadata": {
      "needs_background": "light"
     },
     "output_type": "display_data"
    }
   ],
   "source": [
    "df.groupby('Weights')['Priority'].value_counts().unstack('Priority').plot(kind='bar', stacked=True, figsize=(8, 7))"
   ]
  },
  {
   "cell_type": "markdown",
   "id": "3dabfbcc",
   "metadata": {},
   "source": [
    "### label Encoding"
   ]
  },
  {
   "cell_type": "code",
   "execution_count": 27,
   "id": "62b5a2d3",
   "metadata": {},
   "outputs": [
    {
     "data": {
      "text/html": [
       "<div>\n",
       "<style scoped>\n",
       "    .dataframe tbody tr th:only-of-type {\n",
       "        vertical-align: middle;\n",
       "    }\n",
       "\n",
       "    .dataframe tbody tr th {\n",
       "        vertical-align: top;\n",
       "    }\n",
       "\n",
       "    .dataframe thead th {\n",
       "        text-align: right;\n",
       "    }\n",
       "</style>\n",
       "<table border=\"1\" class=\"dataframe\">\n",
       "  <thead>\n",
       "    <tr style=\"text-align: right;\">\n",
       "      <th></th>\n",
       "      <th>R_Priority</th>\n",
       "      <th>Weights</th>\n",
       "      <th>Complexity</th>\n",
       "      <th>Time</th>\n",
       "      <th>Cost</th>\n",
       "      <th>No of FPS</th>\n",
       "      <th>Priority</th>\n",
       "    </tr>\n",
       "  </thead>\n",
       "  <tbody>\n",
       "    <tr>\n",
       "      <th>0</th>\n",
       "      <td>C</td>\n",
       "      <td>3</td>\n",
       "      <td>3</td>\n",
       "      <td>8.0</td>\n",
       "      <td>168.0</td>\n",
       "      <td>7</td>\n",
       "      <td>Medium</td>\n",
       "    </tr>\n",
       "    <tr>\n",
       "      <th>1</th>\n",
       "      <td>C</td>\n",
       "      <td>3</td>\n",
       "      <td>3</td>\n",
       "      <td>4.0</td>\n",
       "      <td>84.0</td>\n",
       "      <td>1</td>\n",
       "      <td>High</td>\n",
       "    </tr>\n",
       "    <tr>\n",
       "      <th>2</th>\n",
       "      <td>W</td>\n",
       "      <td>3</td>\n",
       "      <td>3</td>\n",
       "      <td>1.5</td>\n",
       "      <td>31.5</td>\n",
       "      <td>1</td>\n",
       "      <td>Medium</td>\n",
       "    </tr>\n",
       "    <tr>\n",
       "      <th>3</th>\n",
       "      <td>S</td>\n",
       "      <td>2</td>\n",
       "      <td>1</td>\n",
       "      <td>4.0</td>\n",
       "      <td>28.0</td>\n",
       "      <td>3</td>\n",
       "      <td>Medium</td>\n",
       "    </tr>\n",
       "    <tr>\n",
       "      <th>4</th>\n",
       "      <td>C</td>\n",
       "      <td>3</td>\n",
       "      <td>5</td>\n",
       "      <td>4.0</td>\n",
       "      <td>140.0</td>\n",
       "      <td>3</td>\n",
       "      <td>Medium</td>\n",
       "    </tr>\n",
       "    <tr>\n",
       "      <th>...</th>\n",
       "      <td>...</td>\n",
       "      <td>...</td>\n",
       "      <td>...</td>\n",
       "      <td>...</td>\n",
       "      <td>...</td>\n",
       "      <td>...</td>\n",
       "      <td>...</td>\n",
       "    </tr>\n",
       "    <tr>\n",
       "      <th>1309</th>\n",
       "      <td>S</td>\n",
       "      <td>2</td>\n",
       "      <td>1</td>\n",
       "      <td>3.0</td>\n",
       "      <td>21.0</td>\n",
       "      <td>2</td>\n",
       "      <td>Low</td>\n",
       "    </tr>\n",
       "    <tr>\n",
       "      <th>1310</th>\n",
       "      <td>S</td>\n",
       "      <td>2</td>\n",
       "      <td>3</td>\n",
       "      <td>4.0</td>\n",
       "      <td>84.0</td>\n",
       "      <td>3</td>\n",
       "      <td>Low</td>\n",
       "    </tr>\n",
       "    <tr>\n",
       "      <th>1311</th>\n",
       "      <td>C</td>\n",
       "      <td>3</td>\n",
       "      <td>3</td>\n",
       "      <td>4.0</td>\n",
       "      <td>84.0</td>\n",
       "      <td>3</td>\n",
       "      <td>Low</td>\n",
       "    </tr>\n",
       "    <tr>\n",
       "      <th>1312</th>\n",
       "      <td>M</td>\n",
       "      <td>1</td>\n",
       "      <td>1</td>\n",
       "      <td>5.0</td>\n",
       "      <td>35.0</td>\n",
       "      <td>3</td>\n",
       "      <td>Low</td>\n",
       "    </tr>\n",
       "    <tr>\n",
       "      <th>1313</th>\n",
       "      <td>W</td>\n",
       "      <td>3</td>\n",
       "      <td>1</td>\n",
       "      <td>4.5</td>\n",
       "      <td>31.5</td>\n",
       "      <td>4</td>\n",
       "      <td>Medium</td>\n",
       "    </tr>\n",
       "  </tbody>\n",
       "</table>\n",
       "<p>1314 rows × 7 columns</p>\n",
       "</div>"
      ],
      "text/plain": [
       "     R_Priority  Weights  Complexity  Time   Cost  No of FPS Priority\n",
       "0             C        3           3   8.0  168.0          7   Medium\n",
       "1             C        3           3   4.0   84.0          1     High\n",
       "2             W        3           3   1.5   31.5          1   Medium\n",
       "3             S        2           1   4.0   28.0          3   Medium\n",
       "4             C        3           5   4.0  140.0          3   Medium\n",
       "...         ...      ...         ...   ...    ...        ...      ...\n",
       "1309          S        2           1   3.0   21.0          2      Low\n",
       "1310          S        2           3   4.0   84.0          3      Low\n",
       "1311          C        3           3   4.0   84.0          3      Low\n",
       "1312          M        1           1   5.0   35.0          3      Low\n",
       "1313          W        3           1   4.5   31.5          4   Medium\n",
       "\n",
       "[1314 rows x 7 columns]"
      ]
     },
     "execution_count": 27,
     "metadata": {},
     "output_type": "execute_result"
    }
   ],
   "source": [
    "df"
   ]
  },
  {
   "cell_type": "code",
   "execution_count": 28,
   "id": "56196386",
   "metadata": {},
   "outputs": [
    {
     "name": "stderr",
     "output_type": "stream",
     "text": [
      "<ipython-input-28-fb0c514f2561>:3: SettingWithCopyWarning: \n",
      "A value is trying to be set on a copy of a slice from a DataFrame.\n",
      "Try using .loc[row_indexer,col_indexer] = value instead\n",
      "\n",
      "See the caveats in the documentation: https://pandas.pydata.org/pandas-docs/stable/user_guide/indexing.html#returning-a-view-versus-a-copy\n",
      "  df[\"R_Priority\"] = le.fit_transform(df[\"R_Priority\"])\n"
     ]
    }
   ],
   "source": [
    "from sklearn import preprocessing\n",
    "le = preprocessing.LabelEncoder()\n",
    "df[\"R_Priority\"] = le.fit_transform(df[\"R_Priority\"])\n",
    "\n"
   ]
  },
  {
   "cell_type": "code",
   "execution_count": 29,
   "id": "9b976632",
   "metadata": {},
   "outputs": [
    {
     "data": {
      "text/html": [
       "<div>\n",
       "<style scoped>\n",
       "    .dataframe tbody tr th:only-of-type {\n",
       "        vertical-align: middle;\n",
       "    }\n",
       "\n",
       "    .dataframe tbody tr th {\n",
       "        vertical-align: top;\n",
       "    }\n",
       "\n",
       "    .dataframe thead th {\n",
       "        text-align: right;\n",
       "    }\n",
       "</style>\n",
       "<table border=\"1\" class=\"dataframe\">\n",
       "  <thead>\n",
       "    <tr style=\"text-align: right;\">\n",
       "      <th></th>\n",
       "      <th>R_Priority</th>\n",
       "      <th>Weights</th>\n",
       "      <th>Complexity</th>\n",
       "      <th>Time</th>\n",
       "      <th>Cost</th>\n",
       "      <th>No of FPS</th>\n",
       "      <th>Priority</th>\n",
       "    </tr>\n",
       "  </thead>\n",
       "  <tbody>\n",
       "    <tr>\n",
       "      <th>0</th>\n",
       "      <td>0</td>\n",
       "      <td>3</td>\n",
       "      <td>3</td>\n",
       "      <td>8.0</td>\n",
       "      <td>168.0</td>\n",
       "      <td>7</td>\n",
       "      <td>Medium</td>\n",
       "    </tr>\n",
       "    <tr>\n",
       "      <th>1</th>\n",
       "      <td>0</td>\n",
       "      <td>3</td>\n",
       "      <td>3</td>\n",
       "      <td>4.0</td>\n",
       "      <td>84.0</td>\n",
       "      <td>1</td>\n",
       "      <td>High</td>\n",
       "    </tr>\n",
       "    <tr>\n",
       "      <th>2</th>\n",
       "      <td>3</td>\n",
       "      <td>3</td>\n",
       "      <td>3</td>\n",
       "      <td>1.5</td>\n",
       "      <td>31.5</td>\n",
       "      <td>1</td>\n",
       "      <td>Medium</td>\n",
       "    </tr>\n",
       "    <tr>\n",
       "      <th>3</th>\n",
       "      <td>2</td>\n",
       "      <td>2</td>\n",
       "      <td>1</td>\n",
       "      <td>4.0</td>\n",
       "      <td>28.0</td>\n",
       "      <td>3</td>\n",
       "      <td>Medium</td>\n",
       "    </tr>\n",
       "    <tr>\n",
       "      <th>4</th>\n",
       "      <td>0</td>\n",
       "      <td>3</td>\n",
       "      <td>5</td>\n",
       "      <td>4.0</td>\n",
       "      <td>140.0</td>\n",
       "      <td>3</td>\n",
       "      <td>Medium</td>\n",
       "    </tr>\n",
       "    <tr>\n",
       "      <th>...</th>\n",
       "      <td>...</td>\n",
       "      <td>...</td>\n",
       "      <td>...</td>\n",
       "      <td>...</td>\n",
       "      <td>...</td>\n",
       "      <td>...</td>\n",
       "      <td>...</td>\n",
       "    </tr>\n",
       "    <tr>\n",
       "      <th>1309</th>\n",
       "      <td>2</td>\n",
       "      <td>2</td>\n",
       "      <td>1</td>\n",
       "      <td>3.0</td>\n",
       "      <td>21.0</td>\n",
       "      <td>2</td>\n",
       "      <td>Low</td>\n",
       "    </tr>\n",
       "    <tr>\n",
       "      <th>1310</th>\n",
       "      <td>2</td>\n",
       "      <td>2</td>\n",
       "      <td>3</td>\n",
       "      <td>4.0</td>\n",
       "      <td>84.0</td>\n",
       "      <td>3</td>\n",
       "      <td>Low</td>\n",
       "    </tr>\n",
       "    <tr>\n",
       "      <th>1311</th>\n",
       "      <td>0</td>\n",
       "      <td>3</td>\n",
       "      <td>3</td>\n",
       "      <td>4.0</td>\n",
       "      <td>84.0</td>\n",
       "      <td>3</td>\n",
       "      <td>Low</td>\n",
       "    </tr>\n",
       "    <tr>\n",
       "      <th>1312</th>\n",
       "      <td>1</td>\n",
       "      <td>1</td>\n",
       "      <td>1</td>\n",
       "      <td>5.0</td>\n",
       "      <td>35.0</td>\n",
       "      <td>3</td>\n",
       "      <td>Low</td>\n",
       "    </tr>\n",
       "    <tr>\n",
       "      <th>1313</th>\n",
       "      <td>3</td>\n",
       "      <td>3</td>\n",
       "      <td>1</td>\n",
       "      <td>4.5</td>\n",
       "      <td>31.5</td>\n",
       "      <td>4</td>\n",
       "      <td>Medium</td>\n",
       "    </tr>\n",
       "  </tbody>\n",
       "</table>\n",
       "<p>1314 rows × 7 columns</p>\n",
       "</div>"
      ],
      "text/plain": [
       "      R_Priority  Weights  Complexity  Time   Cost  No of FPS Priority\n",
       "0              0        3           3   8.0  168.0          7   Medium\n",
       "1              0        3           3   4.0   84.0          1     High\n",
       "2              3        3           3   1.5   31.5          1   Medium\n",
       "3              2        2           1   4.0   28.0          3   Medium\n",
       "4              0        3           5   4.0  140.0          3   Medium\n",
       "...          ...      ...         ...   ...    ...        ...      ...\n",
       "1309           2        2           1   3.0   21.0          2      Low\n",
       "1310           2        2           3   4.0   84.0          3      Low\n",
       "1311           0        3           3   4.0   84.0          3      Low\n",
       "1312           1        1           1   5.0   35.0          3      Low\n",
       "1313           3        3           1   4.5   31.5          4   Medium\n",
       "\n",
       "[1314 rows x 7 columns]"
      ]
     },
     "execution_count": 29,
     "metadata": {},
     "output_type": "execute_result"
    }
   ],
   "source": [
    "df"
   ]
  },
  {
   "cell_type": "code",
   "execution_count": 30,
   "id": "d2a85528",
   "metadata": {},
   "outputs": [
    {
     "name": "stderr",
     "output_type": "stream",
     "text": [
      "<ipython-input-30-47a85a674936>:8: SettingWithCopyWarning: \n",
      "A value is trying to be set on a copy of a slice from a DataFrame.\n",
      "Try using .loc[row_indexer,col_indexer] = value instead\n",
      "\n",
      "See the caveats in the documentation: https://pandas.pydata.org/pandas-docs/stable/user_guide/indexing.html#returning-a-view-versus-a-copy\n",
      "  df[\"Priority\"] = df[\"Priority\"].apply(trans_o)\n"
     ]
    }
   ],
   "source": [
    "def trans_o(x):\n",
    "    if x == \"Low\":\n",
    "        return 0\n",
    "    if x == \"Medium\":\n",
    "        return 1\n",
    "    if x== \"High\":\n",
    "        return 2\n",
    "df[\"Priority\"] = df[\"Priority\"].apply(trans_o)"
   ]
  },
  {
   "cell_type": "code",
   "execution_count": 31,
   "id": "10a5c8c2",
   "metadata": {},
   "outputs": [
    {
     "data": {
      "text/html": [
       "<div>\n",
       "<style scoped>\n",
       "    .dataframe tbody tr th:only-of-type {\n",
       "        vertical-align: middle;\n",
       "    }\n",
       "\n",
       "    .dataframe tbody tr th {\n",
       "        vertical-align: top;\n",
       "    }\n",
       "\n",
       "    .dataframe thead th {\n",
       "        text-align: right;\n",
       "    }\n",
       "</style>\n",
       "<table border=\"1\" class=\"dataframe\">\n",
       "  <thead>\n",
       "    <tr style=\"text-align: right;\">\n",
       "      <th></th>\n",
       "      <th>R_Priority</th>\n",
       "      <th>Weights</th>\n",
       "      <th>Complexity</th>\n",
       "      <th>Time</th>\n",
       "      <th>Cost</th>\n",
       "      <th>No of FPS</th>\n",
       "      <th>Priority</th>\n",
       "    </tr>\n",
       "  </thead>\n",
       "  <tbody>\n",
       "    <tr>\n",
       "      <th>0</th>\n",
       "      <td>0</td>\n",
       "      <td>3</td>\n",
       "      <td>3</td>\n",
       "      <td>8.0</td>\n",
       "      <td>168.0</td>\n",
       "      <td>7</td>\n",
       "      <td>1</td>\n",
       "    </tr>\n",
       "    <tr>\n",
       "      <th>1</th>\n",
       "      <td>0</td>\n",
       "      <td>3</td>\n",
       "      <td>3</td>\n",
       "      <td>4.0</td>\n",
       "      <td>84.0</td>\n",
       "      <td>1</td>\n",
       "      <td>2</td>\n",
       "    </tr>\n",
       "    <tr>\n",
       "      <th>2</th>\n",
       "      <td>3</td>\n",
       "      <td>3</td>\n",
       "      <td>3</td>\n",
       "      <td>1.5</td>\n",
       "      <td>31.5</td>\n",
       "      <td>1</td>\n",
       "      <td>1</td>\n",
       "    </tr>\n",
       "    <tr>\n",
       "      <th>3</th>\n",
       "      <td>2</td>\n",
       "      <td>2</td>\n",
       "      <td>1</td>\n",
       "      <td>4.0</td>\n",
       "      <td>28.0</td>\n",
       "      <td>3</td>\n",
       "      <td>1</td>\n",
       "    </tr>\n",
       "    <tr>\n",
       "      <th>4</th>\n",
       "      <td>0</td>\n",
       "      <td>3</td>\n",
       "      <td>5</td>\n",
       "      <td>4.0</td>\n",
       "      <td>140.0</td>\n",
       "      <td>3</td>\n",
       "      <td>1</td>\n",
       "    </tr>\n",
       "    <tr>\n",
       "      <th>...</th>\n",
       "      <td>...</td>\n",
       "      <td>...</td>\n",
       "      <td>...</td>\n",
       "      <td>...</td>\n",
       "      <td>...</td>\n",
       "      <td>...</td>\n",
       "      <td>...</td>\n",
       "    </tr>\n",
       "    <tr>\n",
       "      <th>1309</th>\n",
       "      <td>2</td>\n",
       "      <td>2</td>\n",
       "      <td>1</td>\n",
       "      <td>3.0</td>\n",
       "      <td>21.0</td>\n",
       "      <td>2</td>\n",
       "      <td>0</td>\n",
       "    </tr>\n",
       "    <tr>\n",
       "      <th>1310</th>\n",
       "      <td>2</td>\n",
       "      <td>2</td>\n",
       "      <td>3</td>\n",
       "      <td>4.0</td>\n",
       "      <td>84.0</td>\n",
       "      <td>3</td>\n",
       "      <td>0</td>\n",
       "    </tr>\n",
       "    <tr>\n",
       "      <th>1311</th>\n",
       "      <td>0</td>\n",
       "      <td>3</td>\n",
       "      <td>3</td>\n",
       "      <td>4.0</td>\n",
       "      <td>84.0</td>\n",
       "      <td>3</td>\n",
       "      <td>0</td>\n",
       "    </tr>\n",
       "    <tr>\n",
       "      <th>1312</th>\n",
       "      <td>1</td>\n",
       "      <td>1</td>\n",
       "      <td>1</td>\n",
       "      <td>5.0</td>\n",
       "      <td>35.0</td>\n",
       "      <td>3</td>\n",
       "      <td>0</td>\n",
       "    </tr>\n",
       "    <tr>\n",
       "      <th>1313</th>\n",
       "      <td>3</td>\n",
       "      <td>3</td>\n",
       "      <td>1</td>\n",
       "      <td>4.5</td>\n",
       "      <td>31.5</td>\n",
       "      <td>4</td>\n",
       "      <td>1</td>\n",
       "    </tr>\n",
       "  </tbody>\n",
       "</table>\n",
       "<p>1314 rows × 7 columns</p>\n",
       "</div>"
      ],
      "text/plain": [
       "      R_Priority  Weights  Complexity  Time   Cost  No of FPS  Priority\n",
       "0              0        3           3   8.0  168.0          7         1\n",
       "1              0        3           3   4.0   84.0          1         2\n",
       "2              3        3           3   1.5   31.5          1         1\n",
       "3              2        2           1   4.0   28.0          3         1\n",
       "4              0        3           5   4.0  140.0          3         1\n",
       "...          ...      ...         ...   ...    ...        ...       ...\n",
       "1309           2        2           1   3.0   21.0          2         0\n",
       "1310           2        2           3   4.0   84.0          3         0\n",
       "1311           0        3           3   4.0   84.0          3         0\n",
       "1312           1        1           1   5.0   35.0          3         0\n",
       "1313           3        3           1   4.5   31.5          4         1\n",
       "\n",
       "[1314 rows x 7 columns]"
      ]
     },
     "execution_count": 31,
     "metadata": {},
     "output_type": "execute_result"
    }
   ],
   "source": [
    "df"
   ]
  },
  {
   "cell_type": "code",
   "execution_count": 32,
   "id": "8ce1ea8c",
   "metadata": {},
   "outputs": [
    {
     "name": "stdout",
     "output_type": "stream",
     "text": [
      "<class 'pandas.core.frame.DataFrame'>\n",
      "RangeIndex: 1314 entries, 0 to 1313\n",
      "Data columns (total 7 columns):\n",
      " #   Column      Non-Null Count  Dtype  \n",
      "---  ------      --------------  -----  \n",
      " 0   R_Priority  1314 non-null   int32  \n",
      " 1   Weights     1314 non-null   int64  \n",
      " 2   Complexity  1314 non-null   int64  \n",
      " 3   Time        1314 non-null   float64\n",
      " 4   Cost        1314 non-null   float64\n",
      " 5   No of FPS   1314 non-null   int64  \n",
      " 6   Priority    1314 non-null   int64  \n",
      "dtypes: float64(2), int32(1), int64(4)\n",
      "memory usage: 66.9 KB\n"
     ]
    }
   ],
   "source": [
    "df.info()"
   ]
  },
  {
   "cell_type": "markdown",
   "id": "3412d3fb",
   "metadata": {},
   "source": [
    "### Heat Map"
   ]
  },
  {
   "cell_type": "code",
   "execution_count": 33,
   "id": "a29bb85c",
   "metadata": {},
   "outputs": [
    {
     "data": {
      "text/html": [
       "<div>\n",
       "<style scoped>\n",
       "    .dataframe tbody tr th:only-of-type {\n",
       "        vertical-align: middle;\n",
       "    }\n",
       "\n",
       "    .dataframe tbody tr th {\n",
       "        vertical-align: top;\n",
       "    }\n",
       "\n",
       "    .dataframe thead th {\n",
       "        text-align: right;\n",
       "    }\n",
       "</style>\n",
       "<table border=\"1\" class=\"dataframe\">\n",
       "  <thead>\n",
       "    <tr style=\"text-align: right;\">\n",
       "      <th></th>\n",
       "      <th>R_Priority</th>\n",
       "      <th>Weights</th>\n",
       "      <th>Complexity</th>\n",
       "      <th>Time</th>\n",
       "      <th>Cost</th>\n",
       "      <th>No of FPS</th>\n",
       "      <th>Priority</th>\n",
       "    </tr>\n",
       "  </thead>\n",
       "  <tbody>\n",
       "    <tr>\n",
       "      <th>R_Priority</th>\n",
       "      <td>1.000000</td>\n",
       "      <td>0.237201</td>\n",
       "      <td>-0.020036</td>\n",
       "      <td>0.039060</td>\n",
       "      <td>-0.004368</td>\n",
       "      <td>0.016952</td>\n",
       "      <td>0.013987</td>\n",
       "    </tr>\n",
       "    <tr>\n",
       "      <th>Weights</th>\n",
       "      <td>0.237201</td>\n",
       "      <td>1.000000</td>\n",
       "      <td>0.009000</td>\n",
       "      <td>-0.016053</td>\n",
       "      <td>-0.010310</td>\n",
       "      <td>-0.024085</td>\n",
       "      <td>0.008083</td>\n",
       "    </tr>\n",
       "    <tr>\n",
       "      <th>Complexity</th>\n",
       "      <td>-0.020036</td>\n",
       "      <td>0.009000</td>\n",
       "      <td>1.000000</td>\n",
       "      <td>-0.030772</td>\n",
       "      <td>0.727958</td>\n",
       "      <td>-0.008664</td>\n",
       "      <td>0.055137</td>\n",
       "    </tr>\n",
       "    <tr>\n",
       "      <th>Time</th>\n",
       "      <td>0.039060</td>\n",
       "      <td>-0.016053</td>\n",
       "      <td>-0.030772</td>\n",
       "      <td>1.000000</td>\n",
       "      <td>0.562109</td>\n",
       "      <td>0.633466</td>\n",
       "      <td>0.038987</td>\n",
       "    </tr>\n",
       "    <tr>\n",
       "      <th>Cost</th>\n",
       "      <td>-0.004368</td>\n",
       "      <td>-0.010310</td>\n",
       "      <td>0.727958</td>\n",
       "      <td>0.562109</td>\n",
       "      <td>1.000000</td>\n",
       "      <td>0.407281</td>\n",
       "      <td>0.076122</td>\n",
       "    </tr>\n",
       "    <tr>\n",
       "      <th>No of FPS</th>\n",
       "      <td>0.016952</td>\n",
       "      <td>-0.024085</td>\n",
       "      <td>-0.008664</td>\n",
       "      <td>0.633466</td>\n",
       "      <td>0.407281</td>\n",
       "      <td>1.000000</td>\n",
       "      <td>0.007271</td>\n",
       "    </tr>\n",
       "    <tr>\n",
       "      <th>Priority</th>\n",
       "      <td>0.013987</td>\n",
       "      <td>0.008083</td>\n",
       "      <td>0.055137</td>\n",
       "      <td>0.038987</td>\n",
       "      <td>0.076122</td>\n",
       "      <td>0.007271</td>\n",
       "      <td>1.000000</td>\n",
       "    </tr>\n",
       "  </tbody>\n",
       "</table>\n",
       "</div>"
      ],
      "text/plain": [
       "            R_Priority   Weights  Complexity      Time      Cost  No of FPS  \\\n",
       "R_Priority    1.000000  0.237201   -0.020036  0.039060 -0.004368   0.016952   \n",
       "Weights       0.237201  1.000000    0.009000 -0.016053 -0.010310  -0.024085   \n",
       "Complexity   -0.020036  0.009000    1.000000 -0.030772  0.727958  -0.008664   \n",
       "Time          0.039060 -0.016053   -0.030772  1.000000  0.562109   0.633466   \n",
       "Cost         -0.004368 -0.010310    0.727958  0.562109  1.000000   0.407281   \n",
       "No of FPS     0.016952 -0.024085   -0.008664  0.633466  0.407281   1.000000   \n",
       "Priority      0.013987  0.008083    0.055137  0.038987  0.076122   0.007271   \n",
       "\n",
       "            Priority  \n",
       "R_Priority  0.013987  \n",
       "Weights     0.008083  \n",
       "Complexity  0.055137  \n",
       "Time        0.038987  \n",
       "Cost        0.076122  \n",
       "No of FPS   0.007271  \n",
       "Priority    1.000000  "
      ]
     },
     "execution_count": 33,
     "metadata": {},
     "output_type": "execute_result"
    }
   ],
   "source": [
    "df.corr()"
   ]
  },
  {
   "cell_type": "code",
   "execution_count": 34,
   "id": "c38c1400",
   "metadata": {
    "scrolled": true
   },
   "outputs": [
    {
     "data": {
      "text/plain": [
       "<AxesSubplot:>"
      ]
     },
     "execution_count": 34,
     "metadata": {},
     "output_type": "execute_result"
    },
    {
     "data": {
      "image/png": "[encoded data removed]",
      "text/plain": [
       "<Figure size 1440x1440 with 2 Axes>"
      ]
     },
     "metadata": {
      "needs_background": "light"
     },
     "output_type": "display_data"
    }
   ],
   "source": [
    "\n",
    "plt.figure(figsize = (20,20))\n",
    "sns.heatmap(df.corr(), annot = True, linewidths = 0.5)"
   ]
  },
  {
   "cell_type": "code",
   "execution_count": 35,
   "id": "48f19dc4",
   "metadata": {},
   "outputs": [
    {
     "data": {
      "text/html": [
       "<div>\n",
       "<style scoped>\n",
       "    .dataframe tbody tr th:only-of-type {\n",
       "        vertical-align: middle;\n",
       "    }\n",
       "\n",
       "    .dataframe tbody tr th {\n",
       "        vertical-align: top;\n",
       "    }\n",
       "\n",
       "    .dataframe thead th {\n",
       "        text-align: right;\n",
       "    }\n",
       "</style>\n",
       "<table border=\"1\" class=\"dataframe\">\n",
       "  <thead>\n",
       "    <tr style=\"text-align: right;\">\n",
       "      <th></th>\n",
       "      <th>R_Priority</th>\n",
       "      <th>Weights</th>\n",
       "      <th>Complexity</th>\n",
       "      <th>Time</th>\n",
       "      <th>Cost</th>\n",
       "      <th>No of FPS</th>\n",
       "      <th>Priority</th>\n",
       "    </tr>\n",
       "  </thead>\n",
       "  <tbody>\n",
       "    <tr>\n",
       "      <th>0</th>\n",
       "      <td>0</td>\n",
       "      <td>3</td>\n",
       "      <td>3</td>\n",
       "      <td>8.0</td>\n",
       "      <td>168.0</td>\n",
       "      <td>7</td>\n",
       "      <td>1</td>\n",
       "    </tr>\n",
       "    <tr>\n",
       "      <th>1</th>\n",
       "      <td>0</td>\n",
       "      <td>3</td>\n",
       "      <td>3</td>\n",
       "      <td>4.0</td>\n",
       "      <td>84.0</td>\n",
       "      <td>1</td>\n",
       "      <td>2</td>\n",
       "    </tr>\n",
       "    <tr>\n",
       "      <th>2</th>\n",
       "      <td>3</td>\n",
       "      <td>3</td>\n",
       "      <td>3</td>\n",
       "      <td>1.5</td>\n",
       "      <td>31.5</td>\n",
       "      <td>1</td>\n",
       "      <td>1</td>\n",
       "    </tr>\n",
       "    <tr>\n",
       "      <th>3</th>\n",
       "      <td>2</td>\n",
       "      <td>2</td>\n",
       "      <td>1</td>\n",
       "      <td>4.0</td>\n",
       "      <td>28.0</td>\n",
       "      <td>3</td>\n",
       "      <td>1</td>\n",
       "    </tr>\n",
       "    <tr>\n",
       "      <th>4</th>\n",
       "      <td>0</td>\n",
       "      <td>3</td>\n",
       "      <td>5</td>\n",
       "      <td>4.0</td>\n",
       "      <td>140.0</td>\n",
       "      <td>3</td>\n",
       "      <td>1</td>\n",
       "    </tr>\n",
       "    <tr>\n",
       "      <th>...</th>\n",
       "      <td>...</td>\n",
       "      <td>...</td>\n",
       "      <td>...</td>\n",
       "      <td>...</td>\n",
       "      <td>...</td>\n",
       "      <td>...</td>\n",
       "      <td>...</td>\n",
       "    </tr>\n",
       "    <tr>\n",
       "      <th>1309</th>\n",
       "      <td>2</td>\n",
       "      <td>2</td>\n",
       "      <td>1</td>\n",
       "      <td>3.0</td>\n",
       "      <td>21.0</td>\n",
       "      <td>2</td>\n",
       "      <td>0</td>\n",
       "    </tr>\n",
       "    <tr>\n",
       "      <th>1310</th>\n",
       "      <td>2</td>\n",
       "      <td>2</td>\n",
       "      <td>3</td>\n",
       "      <td>4.0</td>\n",
       "      <td>84.0</td>\n",
       "      <td>3</td>\n",
       "      <td>0</td>\n",
       "    </tr>\n",
       "    <tr>\n",
       "      <th>1311</th>\n",
       "      <td>0</td>\n",
       "      <td>3</td>\n",
       "      <td>3</td>\n",
       "      <td>4.0</td>\n",
       "      <td>84.0</td>\n",
       "      <td>3</td>\n",
       "      <td>0</td>\n",
       "    </tr>\n",
       "    <tr>\n",
       "      <th>1312</th>\n",
       "      <td>1</td>\n",
       "      <td>1</td>\n",
       "      <td>1</td>\n",
       "      <td>5.0</td>\n",
       "      <td>35.0</td>\n",
       "      <td>3</td>\n",
       "      <td>0</td>\n",
       "    </tr>\n",
       "    <tr>\n",
       "      <th>1313</th>\n",
       "      <td>3</td>\n",
       "      <td>3</td>\n",
       "      <td>1</td>\n",
       "      <td>4.5</td>\n",
       "      <td>31.5</td>\n",
       "      <td>4</td>\n",
       "      <td>1</td>\n",
       "    </tr>\n",
       "  </tbody>\n",
       "</table>\n",
       "<p>1314 rows × 7 columns</p>\n",
       "</div>"
      ],
      "text/plain": [
       "      R_Priority  Weights  Complexity  Time   Cost  No of FPS  Priority\n",
       "0              0        3           3   8.0  168.0          7         1\n",
       "1              0        3           3   4.0   84.0          1         2\n",
       "2              3        3           3   1.5   31.5          1         1\n",
       "3              2        2           1   4.0   28.0          3         1\n",
       "4              0        3           5   4.0  140.0          3         1\n",
       "...          ...      ...         ...   ...    ...        ...       ...\n",
       "1309           2        2           1   3.0   21.0          2         0\n",
       "1310           2        2           3   4.0   84.0          3         0\n",
       "1311           0        3           3   4.0   84.0          3         0\n",
       "1312           1        1           1   5.0   35.0          3         0\n",
       "1313           3        3           1   4.5   31.5          4         1\n",
       "\n",
       "[1314 rows x 7 columns]"
      ]
     },
     "execution_count": 35,
     "metadata": {},
     "output_type": "execute_result"
    }
   ],
   "source": [
    "df"
   ]
  },
  {
   "cell_type": "code",
   "execution_count": 36,
   "id": "bb9140f2",
   "metadata": {},
   "outputs": [],
   "source": [
    "cols = ['R_Priority', 'Weights', 'Complexity', 'Time', 'Cost',\"No of FPS\"]"
   ]
  },
  {
   "cell_type": "code",
   "execution_count": 37,
   "id": "19c62c41",
   "metadata": {},
   "outputs": [
    {
     "data": {
      "text/html": [
       "<div>\n",
       "<style scoped>\n",
       "    .dataframe tbody tr th:only-of-type {\n",
       "        vertical-align: middle;\n",
       "    }\n",
       "\n",
       "    .dataframe tbody tr th {\n",
       "        vertical-align: top;\n",
       "    }\n",
       "\n",
       "    .dataframe thead th {\n",
       "        text-align: right;\n",
       "    }\n",
       "</style>\n",
       "<table border=\"1\" class=\"dataframe\">\n",
       "  <thead>\n",
       "    <tr style=\"text-align: right;\">\n",
       "      <th></th>\n",
       "      <th>R_Priority</th>\n",
       "      <th>Weights</th>\n",
       "      <th>Complexity</th>\n",
       "      <th>Time</th>\n",
       "      <th>Cost</th>\n",
       "      <th>No of FPS</th>\n",
       "    </tr>\n",
       "  </thead>\n",
       "  <tbody>\n",
       "    <tr>\n",
       "      <th>0</th>\n",
       "      <td>0</td>\n",
       "      <td>3</td>\n",
       "      <td>3</td>\n",
       "      <td>8.0</td>\n",
       "      <td>168.0</td>\n",
       "      <td>7</td>\n",
       "    </tr>\n",
       "    <tr>\n",
       "      <th>1</th>\n",
       "      <td>0</td>\n",
       "      <td>3</td>\n",
       "      <td>3</td>\n",
       "      <td>4.0</td>\n",
       "      <td>84.0</td>\n",
       "      <td>1</td>\n",
       "    </tr>\n",
       "    <tr>\n",
       "      <th>2</th>\n",
       "      <td>3</td>\n",
       "      <td>3</td>\n",
       "      <td>3</td>\n",
       "      <td>1.5</td>\n",
       "      <td>31.5</td>\n",
       "      <td>1</td>\n",
       "    </tr>\n",
       "    <tr>\n",
       "      <th>3</th>\n",
       "      <td>2</td>\n",
       "      <td>2</td>\n",
       "      <td>1</td>\n",
       "      <td>4.0</td>\n",
       "      <td>28.0</td>\n",
       "      <td>3</td>\n",
       "    </tr>\n",
       "    <tr>\n",
       "      <th>4</th>\n",
       "      <td>0</td>\n",
       "      <td>3</td>\n",
       "      <td>5</td>\n",
       "      <td>4.0</td>\n",
       "      <td>140.0</td>\n",
       "      <td>3</td>\n",
       "    </tr>\n",
       "    <tr>\n",
       "      <th>...</th>\n",
       "      <td>...</td>\n",
       "      <td>...</td>\n",
       "      <td>...</td>\n",
       "      <td>...</td>\n",
       "      <td>...</td>\n",
       "      <td>...</td>\n",
       "    </tr>\n",
       "    <tr>\n",
       "      <th>1309</th>\n",
       "      <td>2</td>\n",
       "      <td>2</td>\n",
       "      <td>1</td>\n",
       "      <td>3.0</td>\n",
       "      <td>21.0</td>\n",
       "      <td>2</td>\n",
       "    </tr>\n",
       "    <tr>\n",
       "      <th>1310</th>\n",
       "      <td>2</td>\n",
       "      <td>2</td>\n",
       "      <td>3</td>\n",
       "      <td>4.0</td>\n",
       "      <td>84.0</td>\n",
       "      <td>3</td>\n",
       "    </tr>\n",
       "    <tr>\n",
       "      <th>1311</th>\n",
       "      <td>0</td>\n",
       "      <td>3</td>\n",
       "      <td>3</td>\n",
       "      <td>4.0</td>\n",
       "      <td>84.0</td>\n",
       "      <td>3</td>\n",
       "    </tr>\n",
       "    <tr>\n",
       "      <th>1312</th>\n",
       "      <td>1</td>\n",
       "      <td>1</td>\n",
       "      <td>1</td>\n",
       "      <td>5.0</td>\n",
       "      <td>35.0</td>\n",
       "      <td>3</td>\n",
       "    </tr>\n",
       "    <tr>\n",
       "      <th>1313</th>\n",
       "      <td>3</td>\n",
       "      <td>3</td>\n",
       "      <td>1</td>\n",
       "      <td>4.5</td>\n",
       "      <td>31.5</td>\n",
       "      <td>4</td>\n",
       "    </tr>\n",
       "  </tbody>\n",
       "</table>\n",
       "<p>1314 rows × 6 columns</p>\n",
       "</div>"
      ],
      "text/plain": [
       "      R_Priority  Weights  Complexity  Time   Cost  No of FPS\n",
       "0              0        3           3   8.0  168.0          7\n",
       "1              0        3           3   4.0   84.0          1\n",
       "2              3        3           3   1.5   31.5          1\n",
       "3              2        2           1   4.0   28.0          3\n",
       "4              0        3           5   4.0  140.0          3\n",
       "...          ...      ...         ...   ...    ...        ...\n",
       "1309           2        2           1   3.0   21.0          2\n",
       "1310           2        2           3   4.0   84.0          3\n",
       "1311           0        3           3   4.0   84.0          3\n",
       "1312           1        1           1   5.0   35.0          3\n",
       "1313           3        3           1   4.5   31.5          4\n",
       "\n",
       "[1314 rows x 6 columns]"
      ]
     },
     "execution_count": 37,
     "metadata": {},
     "output_type": "execute_result"
    }
   ],
   "source": [
    "df[cols]"
   ]
  },
  {
   "cell_type": "markdown",
   "id": "b86ca2ce",
   "metadata": {},
   "source": [
    "### OverSampling"
   ]
  },
  {
   "cell_type": "code",
   "execution_count": 38,
   "id": "22a6ec0d",
   "metadata": {},
   "outputs": [
    {
     "data": {
      "text/plain": [
       "1    655\n",
       "0    524\n",
       "2    135\n",
       "Name: Priority, dtype: int64"
      ]
     },
     "execution_count": 38,
     "metadata": {},
     "output_type": "execute_result"
    }
   ],
   "source": [
    "df[\"Priority\"].value_counts()"
   ]
  },
  {
   "cell_type": "code",
   "execution_count": 39,
   "id": "6a5cdfec",
   "metadata": {},
   "outputs": [],
   "source": [
    "from sklearn.model_selection import train_test_split\n",
    "\n",
    "X_train, X_test= train_test_split(\n",
    "    df, test_size=0.33, random_state=42)"
   ]
  },
  {
   "cell_type": "code",
   "execution_count": 40,
   "id": "5dc44645",
   "metadata": {},
   "outputs": [
    {
     "data": {
      "text/plain": [
       "1    434\n",
       "2    396\n",
       "0    347\n",
       "Name: Priority, dtype: int64"
      ]
     },
     "execution_count": 40,
     "metadata": {},
     "output_type": "execute_result"
    }
   ],
   "source": [
    "X_train = pd.concat([X_train,X_train[X_train[\"Priority\"]==2],X_train[X_train[\"Priority\"]==2],X_train[X_train[\"Priority\"]==2]])\n",
    "X_train[\"Priority\"].value_counts()"
   ]
  },
  {
   "cell_type": "code",
   "execution_count": 41,
   "id": "ebb70c36",
   "metadata": {},
   "outputs": [],
   "source": [
    "y_train = X_train[\"Priority\"]\n",
    "X_train = X_train.drop([\"Priority\"],axis=1)\n"
   ]
  },
  {
   "cell_type": "code",
   "execution_count": 42,
   "id": "5a8e0659",
   "metadata": {},
   "outputs": [],
   "source": [
    "y_test = X_test[\"Priority\"]\n",
    "X_test = X_test.drop([\"Priority\"],axis=1)"
   ]
  },
  {
   "cell_type": "code",
   "execution_count": 43,
   "id": "dc3c105d",
   "metadata": {},
   "outputs": [],
   "source": [
    "from sklearn.metrics import classification_report"
   ]
  },
  {
   "cell_type": "markdown",
   "id": "7f2eb338",
   "metadata": {},
   "source": [
    "### Decision Tree Classifier"
   ]
  },
  {
   "cell_type": "code",
   "execution_count": 44,
   "id": "10616136",
   "metadata": {},
   "outputs": [
    {
     "data": {
      "text/plain": [
       "DecisionTreeClassifier(random_state=0)"
      ]
     },
     "execution_count": 44,
     "metadata": {},
     "output_type": "execute_result"
    }
   ],
   "source": [
    "from sklearn.tree import DecisionTreeClassifier\n",
    "clf = DecisionTreeClassifier(random_state=0)\n",
    "clf.fit(X_train,y_train)"
   ]
  },
  {
   "cell_type": "code",
   "execution_count": 45,
   "id": "d76dba46",
   "metadata": {},
   "outputs": [
    {
     "name": "stdout",
     "output_type": "stream",
     "text": [
      "              precision    recall  f1-score   support\n",
      "\n",
      "           0     0.5732    0.5187    0.5446       347\n",
      "           1     0.6203    0.5645    0.5911       434\n",
      "           2     0.6496    0.7677    0.7037       396\n",
      "\n",
      "    accuracy                         0.6194      1177\n",
      "   macro avg     0.6144    0.6170    0.6131      1177\n",
      "weighted avg     0.6163    0.6194    0.6153      1177\n",
      "\n"
     ]
    }
   ],
   "source": [
    "y_pred = clf.predict(X_train)\n",
    "print(classification_report(y_train.values, y_pred ,digits=4))"
   ]
  },
  {
   "cell_type": "code",
   "execution_count": 46,
   "id": "1f97623d",
   "metadata": {},
   "outputs": [
    {
     "name": "stdout",
     "output_type": "stream",
     "text": [
      "              precision    recall  f1-score   support\n",
      "\n",
      "           0     0.4184    0.3333    0.3711       177\n",
      "           1     0.4943    0.3891    0.4354       221\n",
      "           2     0.0756    0.2500    0.1161        36\n",
      "\n",
      "    accuracy                         0.3548       434\n",
      "   macro avg     0.3294    0.3242    0.3075       434\n",
      "weighted avg     0.4286    0.3548    0.3827       434\n",
      "\n"
     ]
    }
   ],
   "source": [
    "y_pred = clf.predict(X_test)\n",
    "print(classification_report(y_test.values, y_pred,digits=4))"
   ]
  },
  {
   "cell_type": "markdown",
   "id": "c31c289e",
   "metadata": {},
   "source": [
    "### Random Forest Classifier"
   ]
  },
  {
   "cell_type": "code",
   "execution_count": 47,
   "id": "e8e225b3",
   "metadata": {},
   "outputs": [
    {
     "data": {
      "text/plain": [
       "RandomForestClassifier(random_state=0)"
      ]
     },
     "execution_count": 47,
     "metadata": {},
     "output_type": "execute_result"
    }
   ],
   "source": [
    "from sklearn.ensemble import RandomForestClassifier\n",
    "clf = RandomForestClassifier(random_state=0)\n",
    "clf.fit(X_train,y_train)"
   ]
  },
  {
   "cell_type": "code",
   "execution_count": 48,
   "id": "343aeeca",
   "metadata": {},
   "outputs": [
    {
     "name": "stdout",
     "output_type": "stream",
     "text": [
      "              precision    recall  f1-score   support\n",
      "\n",
      "           0     0.5880    0.4813    0.5293       347\n",
      "           1     0.6158    0.5760    0.5952       434\n",
      "           2     0.6407    0.7879    0.7067       396\n",
      "\n",
      "    accuracy                         0.6194      1177\n",
      "   macro avg     0.6148    0.6151    0.6104      1177\n",
      "weighted avg     0.6160    0.6194    0.6133      1177\n",
      "\n"
     ]
    }
   ],
   "source": [
    "y_pred = clf.predict(X_train)\n",
    "print(classification_report(y_train.values, y_pred,digits=4))"
   ]
  },
  {
   "cell_type": "code",
   "execution_count": 49,
   "id": "4b94f602",
   "metadata": {},
   "outputs": [
    {
     "name": "stdout",
     "output_type": "stream",
     "text": [
      "              precision    recall  f1-score   support\n",
      "\n",
      "           0     0.4167    0.3107    0.3560       177\n",
      "           1     0.5028    0.4072    0.4500       221\n",
      "           2     0.0732    0.2500    0.1132        36\n",
      "\n",
      "    accuracy                         0.3548       434\n",
      "   macro avg     0.3309    0.3227    0.3064       434\n",
      "weighted avg     0.4320    0.3548    0.3837       434\n",
      "\n"
     ]
    }
   ],
   "source": [
    "y_pred = clf.predict(X_test)\n",
    "print(classification_report(y_test.values, y_pred,digits=4))"
   ]
  },
  {
   "cell_type": "markdown",
   "id": "be7483f2",
   "metadata": {},
   "source": [
    "### Logistic regression"
   ]
  },
  {
   "cell_type": "code",
   "execution_count": 50,
   "id": "ba5e40b6",
   "metadata": {},
   "outputs": [
    {
     "name": "stderr",
     "output_type": "stream",
     "text": [
      "C:\\Users\\ajayv\\anaconda3\\lib\\site-packages\\sklearn\\linear_model\\_logistic.py:814: ConvergenceWarning: lbfgs failed to converge (status=1):\n",
      "STOP: TOTAL NO. of ITERATIONS REACHED LIMIT.\n",
      "\n",
      "Increase the number of iterations (max_iter) or scale the data as shown in:\n",
      "    https://scikit-learn.org/stable/modules/preprocessing.html\n",
      "Please also refer to the documentation for alternative solver options:\n",
      "    https://scikit-learn.org/stable/modules/linear_model.html#logistic-regression\n",
      "  n_iter_i = _check_optimize_result(\n"
     ]
    },
    {
     "data": {
      "text/plain": [
       "LogisticRegression(random_state=0)"
      ]
     },
     "execution_count": 50,
     "metadata": {},
     "output_type": "execute_result"
    }
   ],
   "source": [
    "from sklearn.linear_model import LogisticRegression\n",
    "clf = LogisticRegression(random_state=0)\n",
    "clf.fit(X_train,y_train)"
   ]
  },
  {
   "cell_type": "code",
   "execution_count": 51,
   "id": "329dd20a",
   "metadata": {},
   "outputs": [
    {
     "name": "stdout",
     "output_type": "stream",
     "text": [
      "              precision    recall  f1-score   support\n",
      "\n",
      "           0     0.0000    0.0000    0.0000       347\n",
      "           1     0.3877    0.6083    0.4735       434\n",
      "           2     0.3871    0.4848    0.4305       396\n",
      "\n",
      "    accuracy                         0.3874      1177\n",
      "   macro avg     0.2583    0.3644    0.3013      1177\n",
      "weighted avg     0.2732    0.3874    0.3195      1177\n",
      "\n"
     ]
    },
    {
     "name": "stderr",
     "output_type": "stream",
     "text": [
      "C:\\Users\\ajayv\\anaconda3\\lib\\site-packages\\sklearn\\metrics\\_classification.py:1318: UndefinedMetricWarning: Precision and F-score are ill-defined and being set to 0.0 in labels with no predicted samples. Use `zero_division` parameter to control this behavior.\n",
      "  _warn_prf(average, modifier, msg_start, len(result))\n",
      "C:\\Users\\ajayv\\anaconda3\\lib\\site-packages\\sklearn\\metrics\\_classification.py:1318: UndefinedMetricWarning: Precision and F-score are ill-defined and being set to 0.0 in labels with no predicted samples. Use `zero_division` parameter to control this behavior.\n",
      "  _warn_prf(average, modifier, msg_start, len(result))\n",
      "C:\\Users\\ajayv\\anaconda3\\lib\\site-packages\\sklearn\\metrics\\_classification.py:1318: UndefinedMetricWarning: Precision and F-score are ill-defined and being set to 0.0 in labels with no predicted samples. Use `zero_division` parameter to control this behavior.\n",
      "  _warn_prf(average, modifier, msg_start, len(result))\n"
     ]
    }
   ],
   "source": [
    "y_pred = clf.predict(X_train)\n",
    "print(classification_report(y_train.values, y_pred,digits=4))"
   ]
  },
  {
   "cell_type": "code",
   "execution_count": 52,
   "id": "836345c6",
   "metadata": {},
   "outputs": [
    {
     "name": "stdout",
     "output_type": "stream",
     "text": [
      "              precision    recall  f1-score   support\n",
      "\n",
      "           0     0.0000    0.0000    0.0000       177\n",
      "           1     0.4981    0.6063    0.5469       221\n",
      "           2     0.0970    0.4444    0.1592        36\n",
      "\n",
      "    accuracy                         0.3456       434\n",
      "   macro avg     0.1984    0.3503    0.2354       434\n",
      "weighted avg     0.2617    0.3456    0.2917       434\n",
      "\n"
     ]
    },
    {
     "name": "stderr",
     "output_type": "stream",
     "text": [
      "C:\\Users\\ajayv\\anaconda3\\lib\\site-packages\\sklearn\\metrics\\_classification.py:1318: UndefinedMetricWarning: Precision and F-score are ill-defined and being set to 0.0 in labels with no predicted samples. Use `zero_division` parameter to control this behavior.\n",
      "  _warn_prf(average, modifier, msg_start, len(result))\n",
      "C:\\Users\\ajayv\\anaconda3\\lib\\site-packages\\sklearn\\metrics\\_classification.py:1318: UndefinedMetricWarning: Precision and F-score are ill-defined and being set to 0.0 in labels with no predicted samples. Use `zero_division` parameter to control this behavior.\n",
      "  _warn_prf(average, modifier, msg_start, len(result))\n",
      "C:\\Users\\ajayv\\anaconda3\\lib\\site-packages\\sklearn\\metrics\\_classification.py:1318: UndefinedMetricWarning: Precision and F-score are ill-defined and being set to 0.0 in labels with no predicted samples. Use `zero_division` parameter to control this behavior.\n",
      "  _warn_prf(average, modifier, msg_start, len(result))\n"
     ]
    }
   ],
   "source": [
    "y_pred = clf.predict(X_test)\n",
    "print(classification_report(y_test.values, y_pred,digits=4))"
   ]
  },
  {
   "cell_type": "code",
   "execution_count": null,
   "id": "73f755d0",
   "metadata": {},
   "outputs": [],
   "source": []
  },
  {
   "cell_type": "code",
   "execution_count": null,
   "id": "4237c0f1",
   "metadata": {},
   "outputs": [],
   "source": []
  },
  {
   "cell_type": "code",
   "execution_count": null,
   "id": "11728b24",
   "metadata": {},
   "outputs": [],
   "source": []
  }
 ],
 "metadata": {
  "kernelspec": {
   "display_name": "Python 3 (ipykernel)",
   "language": "python",
   "name": "python3"
  },
  "language_info": {
   "codemirror_mode": {
    "name": "ipython",
    "version": 3
   },
   "file_extension": ".py",
   "mimetype": "text/x-python",
   "name": "python",
   "nbconvert_exporter": "python",
   "pygments_lexer": "ipython3",
   "version": "3.9.13"
  }
 },
 "nbformat": 4,
 "nbformat_minor": 5
}
